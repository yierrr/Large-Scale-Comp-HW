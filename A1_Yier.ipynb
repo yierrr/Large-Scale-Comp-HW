{
  "nbformat": 4,
  "nbformat_minor": 0,
  "metadata": {
    "colab": {
      "name": "A1 - Yier.ipynb",
      "provenance": [],
      "collapsed_sections": []
    },
    "kernelspec": {
      "name": "python3",
      "display_name": "Python 3"
    },
    "language_info": {
      "name": "python"
    }
  },
  "cells": [
    {
      "cell_type": "code",
      "metadata": {
        "colab": {
          "base_uri": "https://localhost:8080/",
          "height": 0
        },
        "id": "Oq8Fy6jYbTwZ",
        "outputId": "71a840f5-1aca-45f5-8c51-92d8514b5912"
      },
      "source": [
        "! pip install mpi4py"
      ],
      "execution_count": 1,
      "outputs": [
        {
          "output_type": "stream",
          "name": "stdout",
          "text": [
            "Collecting mpi4py\n",
            "  Downloading mpi4py-3.1.1.tar.gz (2.4 MB)\n",
            "\u001b[K     |████████████████████████████████| 2.4 MB 4.3 MB/s \n",
            "\u001b[?25h  Installing build dependencies ... \u001b[?25l\u001b[?25hdone\n",
            "  Getting requirements to build wheel ... \u001b[?25l\u001b[?25hdone\n",
            "    Preparing wheel metadata ... \u001b[?25l\u001b[?25hdone\n",
            "Building wheels for collected packages: mpi4py\n",
            "  Building wheel for mpi4py (PEP 517) ... \u001b[?25l\u001b[?25hdone\n",
            "  Created wheel for mpi4py: filename=mpi4py-3.1.1-cp37-cp37m-linux_x86_64.whl size=2180575 sha256=4460910ae1ebe0fdd4d4caa39dfee471386020dd202cc80373f659527dd57aaf\n",
            "  Stored in directory: /root/.cache/pip/wheels/91/be/c0/2b0347be1de5cd8ca9fe67da7ec8c3fe8930fcb6b0df6f2255\n",
            "Successfully built mpi4py\n",
            "Installing collected packages: mpi4py\n",
            "Successfully installed mpi4py-3.1.1\n"
          ]
        }
      ]
    },
    {
      "cell_type": "markdown",
      "metadata": {
        "id": "g2q67mM2lz7c"
      },
      "source": [
        "# Question 1a"
      ]
    },
    {
      "cell_type": "code",
      "metadata": {
        "colab": {
          "base_uri": "https://localhost:8080/",
          "height": 0
        },
        "id": "0q7cd9HtcKXa",
        "outputId": "761d547b-75ec-4dc0-8cc6-7b74407e1955"
      },
      "source": [
        "%%writefile sim_og.py \n",
        "# Simulation with original serial code\n",
        "from mpi4py import MPI\n",
        "import numpy as np\n",
        "import scipy.stats as sts\n",
        "import time\n",
        "\n",
        "comm = MPI.COMM_WORLD\n",
        "size = comm.Get_size()\n",
        "rank = comm.Get_rank()\n",
        "name = MPI.Get_processor_name()\n",
        "\n",
        "t1_og = time.time()\n",
        "\n",
        "rho = 0.5\n",
        "mu = 3.0\n",
        "sigma = 1.0\n",
        "z_0 = mu\n",
        "S = 1000\n",
        "T = int(4160)\n",
        "np.random.seed(25)\n",
        "eps_mat = sts.norm.rvs(loc=0, scale=sigma, size=(T, S))\n",
        "z_mat = np.zeros((T, S))\n",
        "\n",
        "for s_ind in range(S):\n",
        "    z_tm1 = z_0\n",
        "    for t_ind in range(T):\n",
        "        e_t = eps_mat[t_ind, s_ind]\n",
        "        z_t = rho * z_tm1 + (1 - rho) * mu + e_t\n",
        "        z_mat[t_ind, s_ind] = z_t\n",
        "        z_tm1 = z_t\n",
        "dt_og = time.time() - t1_og\n",
        "print('Execeution time: '+ str(dt_og) +' sec')\n"
      ],
      "execution_count": 7,
      "outputs": [
        {
          "output_type": "stream",
          "name": "stdout",
          "text": [
            "Overwriting sim_og.py\n"
          ]
        }
      ]
    },
    {
      "cell_type": "code",
      "metadata": {
        "colab": {
          "base_uri": "https://localhost:8080/",
          "height": 0
        },
        "id": "o4jE8M9rd7G4",
        "outputId": "1400f64e-ce7b-4e81-ce9e-6d7c7eb39ded"
      },
      "source": [
        "! mpirun --allow-run-as-root -n 1 python sim_og.py\n"
      ],
      "execution_count": 8,
      "outputs": [
        {
          "output_type": "stream",
          "name": "stdout",
          "text": [
            "Execeution time: 4.661520481109619 sec\n"
          ]
        }
      ]
    },
    {
      "cell_type": "code",
      "metadata": {
        "id": "PNgKvBsMcwU6"
      },
      "source": [
        "# Compiling for loops in simulation ahead of time\n",
        "from numba.pycc import CC\n",
        "\n",
        "cc = CC('q1a_aot')\n",
        "\n",
        "@cc.export('gen_ts', 'f8[:,:](i8,i8,f8[:,:],f8,f8,f8,f8[:,:])')\n",
        "def gen_ts(S,T,eps_mat,rho,mu,z_0,z_mat):\n",
        "    for s_ind in range(S):\n",
        "        z_tm1 = z_0\n",
        "        for t_ind in range(T):\n",
        "            e_t = eps_mat[t_ind, s_ind]\n",
        "            z_t = rho * z_tm1 + (1 - rho) * mu + e_t\n",
        "            z_mat[t_ind, s_ind] = z_t\n",
        "            z_tm1 = z_t\n",
        "    \n",
        "    return z_mat\n",
        "\n",
        "cc.compile()"
      ],
      "execution_count": 12,
      "outputs": []
    },
    {
      "cell_type": "code",
      "metadata": {
        "colab": {
          "base_uri": "https://localhost:8080/",
          "height": 0
        },
        "id": "wBA1RNy9dOWY",
        "outputId": "3a1c8745-a2c4-484a-ccb0-b1e72920b863"
      },
      "source": [
        "%%writefile sim_nb.py \n",
        "# Simulation with accelerated code\n",
        "\n",
        "from mpi4py import MPI\n",
        "import numpy as np\n",
        "import q1a_aot\n",
        "import scipy.stats as sts\n",
        "import time\n",
        "\n",
        "t1_nb = time.time()\n",
        "\n",
        "comm = MPI.COMM_WORLD\n",
        "size = comm.Get_size()\n",
        "rank = comm.Get_rank()\n",
        "name = MPI.Get_processor_name()\n",
        "\n",
        "rho = 0.5\n",
        "mu = 3.0\n",
        "sigma = 1.0\n",
        "z_0 = mu\n",
        "S = 1000 \n",
        "T = int(4160) \n",
        "np.random.seed(25)\n",
        "eps_mat = sts.norm.rvs(loc=0, scale=sigma, size=(T, S))\n",
        "z_mat = np.zeros((T, S))\n",
        "q1a_aot.gen_ts(S,T,eps_mat,rho,mu,z_0,z_mat)\n",
        "\n",
        "dt_nb = time.time() - t1_nb\n",
        "print('Execeution time: '+ str(dt_nb) +' sec')"
      ],
      "execution_count": 18,
      "outputs": [
        {
          "output_type": "stream",
          "name": "stdout",
          "text": [
            "Overwriting sim_nb.py\n"
          ]
        }
      ]
    },
    {
      "cell_type": "code",
      "metadata": {
        "colab": {
          "base_uri": "https://localhost:8080/",
          "height": 0
        },
        "id": "PtByNC2heoLk",
        "outputId": "bd1ad75a-dc74-47d5-b03f-e36e066c4a41"
      },
      "source": [
        "! mpirun --allow-run-as-root -n 1 python sim_nb.py\n"
      ],
      "execution_count": 19,
      "outputs": [
        {
          "output_type": "stream",
          "name": "stdout",
          "text": [
            "Execeution time: 0.2330172061920166 sec\n"
          ]
        }
      ]
    },
    {
      "cell_type": "markdown",
      "metadata": {
        "id": "N9HPkQfIO6Wy"
      },
      "source": [
        "As can be seen above, the accelerated code only requires around 0.23 seconds to run the task requiring around 4.67 seconds to run with the original serial code. This is approximately a 95% reduction in the time required to finish the task."
      ]
    },
    {
      "cell_type": "markdown",
      "metadata": {
        "id": "rwfZM0wod1ip"
      },
      "source": [
        "# Q1b"
      ]
    },
    {
      "cell_type": "code",
      "metadata": {
        "colab": {
          "base_uri": "https://localhost:8080/",
          "height": 0
        },
        "id": "T7mmdw_sZnCD",
        "outputId": "298dcbac-7194-40e1-8d4b-0cb44021ccd5"
      },
      "source": [
        "%%writefile sim_new.py \n",
        "# Simulation with accelerated code and MPI\n",
        "from mpi4py import MPI\n",
        "import numpy as np\n",
        "import q1a_aot\n",
        "import scipy.stats as sts\n",
        "import time\n",
        "import matplotlib.pyplot as plt\n",
        "\n",
        "def sim_new(n_runs=1000):\n",
        "    comm = MPI.COMM_WORLD\n",
        "    size = comm.Get_size()\n",
        "    rank = comm.Get_rank()\n",
        "    \n",
        "    t0=time.time()\n",
        "    S = int(n_runs // size)\n",
        "\n",
        "    rho = 0.5\n",
        "    mu = 3.0\n",
        "    sigma = 1.0\n",
        "    z_0 = mu\n",
        "    T = int(4160) \n",
        "\n",
        "    np.random.seed(rank)\n",
        "    eps_mat = sts.norm.rvs(loc=0, scale=sigma, size=(T, S))\n",
        "    z_mat = np.zeros((T, S))\n",
        "    z_mat = q1a_aot.gen_ts(S,T,eps_mat,rho,mu,z_0,z_mat)\n",
        "\n",
        "    z_mat0=None\n",
        "    if rank == 0:\n",
        "        z_mat0 = np.empty([T,S*size], dtype = 'float')\n",
        "\n",
        "    comm.Gather(sendbuf = z_mat, recvbuf = z_mat0, root = 0)\n",
        "\n",
        "    if rank == 0:\n",
        "        dt = time.time()-t0\n",
        "        print([dt,size])\n",
        "    return \n",
        "\n",
        "def main():\n",
        "    sim_new(n_runs=1000)\n",
        "\n",
        "if __name__ == '__main__':\n",
        "    main()"
      ],
      "execution_count": 20,
      "outputs": [
        {
          "output_type": "stream",
          "name": "stdout",
          "text": [
            "Writing sim_new.py\n"
          ]
        }
      ]
    },
    {
      "cell_type": "code",
      "metadata": {
        "id": "q4jeuj9W9z0E"
      },
      "source": [
        "%%bash\n",
        "for i in {1..20}\n",
        "do\n",
        "  mpirun --allow-run-as-root -n $i python3 sim_new.py >> new_ts.out\n",
        "done"
      ],
      "execution_count": 21,
      "outputs": []
    },
    {
      "cell_type": "code",
      "metadata": {
        "colab": {
          "base_uri": "https://localhost:8080/",
          "height": 0
        },
        "id": "mlZVwjmw4GMh",
        "outputId": "c6e5a5bc-eaf0-40dd-f97d-61a19c83bba2"
      },
      "source": [
        "cat new_ts.out"
      ],
      "execution_count": 22,
      "outputs": [
        {
          "output_type": "stream",
          "name": "stdout",
          "text": [
            "[0.24137473106384277, 1]\n",
            "[0.2503631114959717, 2]\n",
            "[0.1652688980102539, 3]\n",
            "[0.2674539089202881, 4]\n",
            "[0.2983684539794922, 5]\n",
            "[0.2349562644958496, 6]\n",
            "[0.25197911262512207, 7]\n",
            "[0.2778337001800537, 8]\n",
            "[0.38228917121887207, 9]\n",
            "[0.3547980785369873, 10]\n",
            "[0.31435680389404297, 11]\n",
            "[0.4938085079193115, 12]\n",
            "[0.3708329200744629, 13]\n",
            "[0.4670393466949463, 14]\n",
            "[0.5216186046600342, 15]\n",
            "[0.44081902503967285, 16]\n",
            "[0.5160529613494873, 17]\n",
            "[0.6662681102752686, 18]\n",
            "[0.46094179153442383, 19]\n",
            "[0.40110254287719727, 20]\n"
          ]
        }
      ]
    },
    {
      "cell_type": "code",
      "metadata": {
        "colab": {
          "base_uri": "https://localhost:8080/",
          "height": 0
        },
        "id": "H6krtSCmAkir",
        "outputId": "712a53fe-099b-43a5-b981-2e92e1b3255d"
      },
      "source": [
        "%%writefile plot_core.py \n",
        "# Create the plot between the cores and the execution time\n",
        "import numpy as np\n",
        "import matplotlib.pyplot as plt\n",
        "\n",
        "lst = [[0.24137473106384277, 1],\n",
        "[0.2503631114959717, 2],\n",
        "[0.1652688980102539, 3],\n",
        "[0.2674539089202881, 4],\n",
        "[0.2983684539794922, 5],\n",
        "[0.2349562644958496, 6],\n",
        "[0.25197911262512207, 7],\n",
        "[0.2778337001800537, 8],\n",
        "[0.38228917121887207, 9],\n",
        "[0.3547980785369873, 10],\n",
        "[0.31435680389404297, 11],\n",
        "[0.4938085079193115, 12],\n",
        "[0.3708329200744629, 13],\n",
        "[0.4670393466949463, 14],\n",
        "[0.5216186046600342, 15],\n",
        "[0.44081902503967285, 16],\n",
        "[0.5160529613494873, 17],\n",
        "[0.6662681102752686, 18],\n",
        "[0.46094179153442383, 19],\n",
        "[0.40110254287719727, 20]]\n",
        "\n",
        "time = [i[0] for i in lst]\n",
        "core = [i[1] for i in lst]\n",
        "\n",
        "plt.plot(core,time)\n",
        "plt.xlabel('Number of Cores')\n",
        "plt.ylabel('Execution Time')\n",
        "plt.savefig(\"timecore.png\")\n",
        "plt.show()\n",
        "\n"
      ],
      "execution_count": 28,
      "outputs": [
        {
          "output_type": "stream",
          "name": "stdout",
          "text": [
            "Overwriting plot_core.py\n"
          ]
        }
      ]
    },
    {
      "cell_type": "code",
      "metadata": {
        "colab": {
          "base_uri": "https://localhost:8080/",
          "height": 0
        },
        "id": "_LpeqUsWmgzq",
        "outputId": "8323a46b-6cd3-404f-89a5-32c06080e533"
      },
      "source": [
        "! mpirun --allow-run-as-root -n 1 python plot_core.py"
      ],
      "execution_count": 29,
      "outputs": [
        {
          "output_type": "stream",
          "name": "stdout",
          "text": [
            "<Figure size 640x480 with 1 Axes>\n"
          ]
        }
      ]
    },
    {
      "cell_type": "code",
      "metadata": {
        "colab": {
          "base_uri": "https://localhost:8080/",
          "height": 496
        },
        "id": "0W_PT9U3my8p",
        "outputId": "09a093c8-70ad-4cec-f03b-24431a5891d7"
      },
      "source": [
        "from IPython.display import Image, display\n",
        "display(Image('timecore.png'))"
      ],
      "execution_count": 32,
      "outputs": [
        {
          "output_type": "display_data",
          "data": {
            "image/png": "[encoded data removed]",
            "text/plain": [
              "<IPython.core.display.Image object>"
            ]
          },
          "metadata": {}
        }
      ]
    },
    {
      "cell_type": "markdown",
      "metadata": {
        "id": "K2-sxbzZpc-3"
      },
      "source": [
        "# Q1c"
      ]
    },
    {
      "cell_type": "markdown",
      "metadata": {
        "id": "XbqVer1SnGHj"
      },
      "source": [
        "As can be seen above, the execution time increases with the number of cores, though in a slow and fluctuating fashion. This may be due to the fact that though multiple cores were called on in the code, with Colab there is only one core/processor to be utilised, so parallelization on Colab may actually incur higher time cost as communication and switching between contexts cost time, which would otherwise not exist with serial code.\n",
        "\n",
        "\n",
        "\n",
        "Theoretically we would expect the time to decrease with the number of cores in a non-linear fashion. Such nonlinearity can come from communication cost (as above), the proportion of code that cannot be parallelized (as shown in Amdahl's law), and possible overhead."
      ]
    },
    {
      "cell_type": "markdown",
      "metadata": {
        "id": "2sdzJtHxIRsS"
      },
      "source": [
        "# Q2a"
      ]
    },
    {
      "cell_type": "code",
      "metadata": {
        "id": "x_pRGwQp3Oqg"
      },
      "source": [
        "# Compling function to report the average period to arrive at \n",
        "# a non-positive health index\n",
        "\n",
        "import numpy as np\n",
        "from numba.pycc import CC\n",
        "\n",
        "cc = CC('q2_aot')\n",
        "\n",
        "@cc.export('calc_p', 'f8(f8[:,:])')\n",
        "def calc_p(z_mat):\n",
        "    num = 0\n",
        "    n_neg = 0\n",
        "    for r in range(len(z_mat[0])):\n",
        "        n=0\n",
        "        for t in range(len(z_mat)):\n",
        "            if z_mat[t][r] <= 0:\n",
        "                n = t\n",
        "                n_neg += 1\n",
        "                break\n",
        "        num += n\n",
        "    avg = num/n_neg\n",
        "    return avg\n",
        "\n",
        "cc.compile()"
      ],
      "execution_count": 34,
      "outputs": []
    },
    {
      "cell_type": "code",
      "metadata": {
        "colab": {
          "base_uri": "https://localhost:8080/",
          "height": 0
        },
        "id": "aTHIfr-Ofj8R",
        "outputId": "1e8738db-f150-44b9-cc92-a8bd29a14501"
      },
      "source": [
        "%%writefile best_rho.py \n",
        "# Simulation with different rhos to select the best rho\n",
        "from mpi4py import MPI\n",
        "import numpy as np\n",
        "import q1a_aot\n",
        "import q2_aot\n",
        "import scipy.stats as sts\n",
        "import time\n",
        "import matplotlib.pyplot as plt\n",
        "\n",
        "def best_rho(n_runs=1000):\n",
        "    t0 = time.time()\n",
        "    step = 0.95*2/200\n",
        "    rho_arr = np.arange(-0.95,0.95, step)\n",
        "    mu = 3.0\n",
        "    sigma = 1.0\n",
        "    z_0 = mu - 3*sigma\n",
        "    S = n_runs \n",
        "    T = int(4160) \n",
        "    np.random.seed(0)\n",
        "    eps_mat = sts.norm.rvs(loc=0, scale=sigma, size=(T, S))\n",
        "\n",
        "    comm = MPI.COMM_WORLD\n",
        "    size = comm.Get_size()\n",
        "    rank = comm.Get_rank()\n",
        "    name = MPI.Get_processor_name()\n",
        "\n",
        "    r_arr = rho_arr[rank*20:(rank+1)*20]\n",
        "    z_mat = np.zeros((T, S))\n",
        "    l_r = []\n",
        "    l_p = []\n",
        "\n",
        "    for rho in r_arr:\n",
        "        z=q1a_aot.gen_ts(S,T,eps_mat,rho,mu,z_0,z_mat)\n",
        "        avg = q2_aot.calc_p(z)\n",
        "        l_r.append(rho)\n",
        "        l_p.append(avg)\n",
        "\n",
        "    r_ary = np.array(l_r)\n",
        "    p_ary = np.array(l_p)\n",
        "\n",
        "    recv1 = None\n",
        "    recv2=None\n",
        "    if rank == 0:\n",
        "          recv1 = np.empty([size*20,1],dtype='float')\n",
        "          recv2 = np.empty([size*20,1],dtype='float')\n",
        "    comm.Gather(sendbuf = r_ary, recvbuf = recv1, root = 0)\n",
        "    comm.Gather(sendbuf = p_ary, recvbuf = recv2, root = 0)\n",
        "\n",
        "    b_rho = None\n",
        "    if rank == 0:\n",
        "        for i in range(200):\n",
        "            if recv2[i]==max(recv2):\n",
        "                b_rho = recv1[i]\n",
        "                print('rho:')\n",
        "                print(float(b_rho[0]))\n",
        "                print('period:')\n",
        "                print(recv2[i])\n",
        "        dt = time.time()-t0\n",
        "        print('time: '+str(float(dt)))\n",
        "        rl = [float(i[0]) for i in recv1]\n",
        "        pl = [float(i[0]) for i in recv2]\n",
        "        plt.plot(rl,pl)\n",
        "        plt.xlabel('Rho')\n",
        "        plt.ylabel('Periods')\n",
        "        plt.savefig(\"rhoperiods.png\")\n",
        "\n",
        "    return\n",
        "\n",
        "def main():\n",
        "    best_rho(n_runs=1000)\n",
        "\n",
        "if __name__ == '__main__':\n",
        "    main()\n"
      ],
      "execution_count": 35,
      "outputs": [
        {
          "output_type": "stream",
          "name": "stdout",
          "text": [
            "Writing best_rho.py\n"
          ]
        }
      ]
    },
    {
      "cell_type": "code",
      "metadata": {
        "id": "TOvTzUSdvqKh"
      },
      "source": [
        "!mpirun --allow-run-as-root -n 10 python3 best_rho.py >> best_rho.out"
      ],
      "execution_count": 39,
      "outputs": []
    },
    {
      "cell_type": "code",
      "metadata": {
        "colab": {
          "base_uri": "https://localhost:8080/",
          "height": 0
        },
        "id": "TixOvofgrtWX",
        "outputId": "ec87df6b-78fa-4d98-c648-dd26b68c2017"
      },
      "source": [
        "cat best_rho.out"
      ],
      "execution_count": 41,
      "outputs": [
        {
          "output_type": "stream",
          "name": "stdout",
          "text": [
            "rho:\n",
            "0.00949999999999529\n",
            "period:\n",
            "[734.70883534]\n",
            "time: 7.8686842918396\n"
          ]
        }
      ]
    },
    {
      "cell_type": "markdown",
      "metadata": {
        "id": "6jAu2W_yrx7u"
      },
      "source": [
        "As can be seen in the result, the time needed to search for the best rho is about 7.87 seconds."
      ]
    },
    {
      "cell_type": "markdown",
      "metadata": {
        "id": "JuD-53emr5Ww"
      },
      "source": [
        "# Q2b"
      ]
    },
    {
      "cell_type": "code",
      "metadata": {
        "colab": {
          "base_uri": "https://localhost:8080/",
          "height": 496
        },
        "id": "O-xHwA5nawGn",
        "outputId": "e3cab567-abd2-4445-e2eb-55a68384120a"
      },
      "source": [
        "from IPython.display import Image, display\n",
        "display(Image('rhoperiods.png'))"
      ],
      "execution_count": 40,
      "outputs": [
        {
          "output_type": "display_data",
          "data": {
            "image/png": "[encoded data removed]",
            "text/plain": [
              "<IPython.core.display.Image object>"
            ]
          },
          "metadata": {}
        }
      ]
    },
    {
      "cell_type": "markdown",
      "metadata": {
        "id": "UZxhqu59sCJK"
      },
      "source": [
        "# Q2c"
      ]
    },
    {
      "cell_type": "markdown",
      "metadata": {
        "id": "WWAe3b2ksD_1"
      },
      "source": [
        "As can be seen from the result, the optimal rho is around 0.0095, and the average periods before negative health is about 734.70 units/weeks."
      ]
    },
    {
      "cell_type": "markdown",
      "metadata": {
        "id": "wA1GQoKUsHcI"
      },
      "source": [
        "# Q3a"
      ]
    },
    {
      "cell_type": "code",
      "metadata": {
        "colab": {
          "base_uri": "https://localhost:8080/",
          "height": 0
        },
        "id": "RFt2thTBsNkv",
        "outputId": "bc6b1195-62e3-4064-faa2-5756f85f4904"
      },
      "source": [
        "! pip install rasterio pyopencl mako\n",
        "! pip install pyopencl mako"
      ],
      "execution_count": 1,
      "outputs": [
        {
          "output_type": "stream",
          "name": "stdout",
          "text": [
            "Collecting rasterio\n",
            "  Downloading rasterio-1.2.10-cp37-cp37m-manylinux1_x86_64.whl (19.3 MB)\n",
            "\u001b[K     |████████████████████████████████| 19.3 MB 1.2 MB/s \n",
            "\u001b[?25hCollecting pyopencl\n",
            "  Downloading pyopencl-2021.2.9-cp37-cp37m-manylinux_2_17_x86_64.manylinux2014_x86_64.whl (879 kB)\n",
            "\u001b[K     |████████████████████████████████| 879 kB 24.5 MB/s \n",
            "\u001b[?25hCollecting mako\n",
            "  Downloading Mako-1.1.5-py2.py3-none-any.whl (75 kB)\n",
            "\u001b[K     |████████████████████████████████| 75 kB 4.5 MB/s \n",
            "\u001b[?25hRequirement already satisfied: click>=4.0 in /usr/local/lib/python3.7/dist-packages (from rasterio) (7.1.2)\n",
            "Requirement already satisfied: certifi in /usr/local/lib/python3.7/dist-packages (from rasterio) (2021.5.30)\n",
            "Collecting affine\n",
            "  Downloading affine-2.3.0-py2.py3-none-any.whl (15 kB)\n",
            "Collecting click-plugins\n",
            "  Downloading click_plugins-1.1.1-py2.py3-none-any.whl (7.5 kB)\n",
            "Collecting cligj>=0.5\n",
            "  Downloading cligj-0.7.2-py3-none-any.whl (7.1 kB)\n",
            "Collecting snuggs>=1.4.1\n",
            "  Downloading snuggs-1.4.7-py3-none-any.whl (5.4 kB)\n",
            "Requirement already satisfied: numpy in /usr/local/lib/python3.7/dist-packages (from rasterio) (1.19.5)\n",
            "Requirement already satisfied: attrs in /usr/local/lib/python3.7/dist-packages (from rasterio) (21.2.0)\n",
            "Requirement already satisfied: setuptools in /usr/local/lib/python3.7/dist-packages (from rasterio) (57.4.0)\n",
            "Requirement already satisfied: pyparsing>=2.1.6 in /usr/local/lib/python3.7/dist-packages (from snuggs>=1.4.1->rasterio) (2.4.7)\n",
            "Collecting pytools>=2021.2.7\n",
            "  Downloading pytools-2021.2.8.tar.gz (63 kB)\n",
            "\u001b[K     |████████████████████████████████| 63 kB 1.9 MB/s \n",
            "\u001b[?25hRequirement already satisfied: appdirs>=1.4.0 in /usr/local/lib/python3.7/dist-packages (from pyopencl) (1.4.4)\n",
            "Requirement already satisfied: MarkupSafe>=0.9.2 in /usr/local/lib/python3.7/dist-packages (from mako) (2.0.1)\n",
            "Building wheels for collected packages: pytools\n",
            "  Building wheel for pytools (setup.py) ... \u001b[?25l\u001b[?25hdone\n",
            "  Created wheel for pytools: filename=pytools-2021.2.8-py2.py3-none-any.whl size=60725 sha256=59816729ef0dddafd3581865e99c14b6987a78ff1daed95d1be5066de3254e98\n",
            "  Stored in directory: /root/.cache/pip/wheels/bd/2d/ef/0127a17bafa44971f11d05d0e38d7947144cf9e33313bf12a7\n",
            "Successfully built pytools\n",
            "Installing collected packages: snuggs, pytools, cligj, click-plugins, affine, rasterio, pyopencl, mako\n",
            "Successfully installed affine-2.3.0 click-plugins-1.1.1 cligj-0.7.2 mako-1.1.5 pyopencl-2021.2.9 pytools-2021.2.8 rasterio-1.2.10 snuggs-1.4.7\n",
            "Requirement already satisfied: pyopencl in /usr/local/lib/python3.7/dist-packages (2021.2.9)\n",
            "Requirement already satisfied: mako in /usr/local/lib/python3.7/dist-packages (1.1.5)\n",
            "Requirement already satisfied: numpy in /usr/local/lib/python3.7/dist-packages (from pyopencl) (1.19.5)\n",
            "Requirement already satisfied: pytools>=2021.2.7 in /usr/local/lib/python3.7/dist-packages (from pyopencl) (2021.2.8)\n",
            "Requirement already satisfied: appdirs>=1.4.0 in /usr/local/lib/python3.7/dist-packages (from pyopencl) (1.4.4)\n",
            "Requirement already satisfied: MarkupSafe>=0.9.2 in /usr/local/lib/python3.7/dist-packages (from mako) (2.0.1)\n"
          ]
        }
      ]
    },
    {
      "cell_type": "code",
      "metadata": {
        "id": "tmJ17LumDDvo",
        "colab": {
          "base_uri": "https://localhost:8080/",
          "height": 0
        },
        "outputId": "3b706d0e-0d44-4c1d-d72d-de26d073efec"
      },
      "source": [
        "%%writefile ndvi_o.py \n",
        "# Calculating the time needed for the original code\n",
        "import rasterio\n",
        "import numpy as np\n",
        "import time\n",
        "\n",
        "t0 = time.time()\n",
        "\n",
        "\n",
        "band4 = rasterio.open('/content/LC08_B4.tif') \n",
        "band5 = rasterio.open('/content/LC08_B5.tif') \n",
        "red = band4.read(1).astype('float64')\n",
        "nir = band5.read(1).astype('float64')\n",
        "\n",
        "ndvi = (nir - red) / (nir + red)\n",
        "\n",
        "dt = time.time() - t0\n",
        "print('time: '+str(dt)+' sec')"
      ],
      "execution_count": 9,
      "outputs": [
        {
          "output_type": "stream",
          "name": "stdout",
          "text": [
            "Writing ndvi_o.py\n"
          ]
        }
      ]
    },
    {
      "cell_type": "code",
      "metadata": {
        "colab": {
          "base_uri": "https://localhost:8080/",
          "height": 0
        },
        "id": "L-KhLr2XubOn",
        "outputId": "932fac77-226b-4346-9028-6e0209bc2001"
      },
      "source": [
        "! python ndvi_o.py"
      ],
      "execution_count": 11,
      "outputs": [
        {
          "output_type": "stream",
          "name": "stdout",
          "text": [
            "time: 0.09239578247070312 sec\n"
          ]
        }
      ]
    },
    {
      "cell_type": "code",
      "metadata": {
        "colab": {
          "base_uri": "https://localhost:8080/",
          "height": 0
        },
        "id": "6gDap8hSc-Z2",
        "outputId": "c88ed950-6be5-44c0-ed8e-ecf5ef3036d8"
      },
      "source": [
        "%%writefile ndvi_g.py \n",
        "# Calculating the time needed for the parallel code\n",
        "import pyopencl as cl\n",
        "import rasterio\n",
        "import numpy as np\n",
        "import pyopencl.array as cl_array\n",
        "import time\n",
        "\n",
        "t0 = time.time()\n",
        "\n",
        "band4 = rasterio.open('/content/LC08_B4.tif') \n",
        "band5 = rasterio.open('/content/LC08_B5.tif') \n",
        "red = band4.read(1).astype('float64')\n",
        "nir = band5.read(1).astype('float64')\n",
        "\n",
        "ctx = cl.create_some_context()\n",
        "queue = cl.CommandQueue(ctx)\n",
        "\n",
        "red1 = cl_array.to_device(queue,red)\n",
        "nir1 = cl_array.to_device(queue,nir)\n",
        "\n",
        "ndvi1 = (nir1 - red1) / (nir1 + red1)\n",
        "ndvi_arr = ndvi1.get()\n",
        "\n",
        "dt2 = time.time()-t0\n",
        "print('time: '+str(dt2)+' sec')"
      ],
      "execution_count": 14,
      "outputs": [
        {
          "output_type": "stream",
          "name": "stdout",
          "text": [
            "Overwriting ndvi_g.py\n"
          ]
        }
      ]
    },
    {
      "cell_type": "code",
      "metadata": {
        "colab": {
          "base_uri": "https://localhost:8080/",
          "height": 0
        },
        "id": "aCywtPCUujLj",
        "outputId": "b010ca95-fbd5-44fd-dca7-e8fbba0b23bb"
      },
      "source": [
        "! python ndvi_g.py"
      ],
      "execution_count": 19,
      "outputs": [
        {
          "output_type": "stream",
          "name": "stdout",
          "text": [
            "Choose platform:\n",
            "[0] <pyopencl.Platform 'NVIDIA CUDA' at 0x562301315c50>\n",
            "Choice [0]:0\n",
            "Set the environment variable PYOPENCL_CTX='0' to avoid being asked again.\n",
            "time: 3.3642373085021973 sec\n"
          ]
        }
      ]
    },
    {
      "cell_type": "markdown",
      "metadata": {
        "id": "c0pS_5qBvENV"
      },
      "source": [
        "# Q3b"
      ]
    },
    {
      "cell_type": "markdown",
      "metadata": {
        "id": "Blju1kFzvERi"
      },
      "source": [
        "As seen above, using GPU implementation actually cost more time than the original code. This may be because that with less than enormous data, communications and data transfers with the GPU method may cost more time than saved, espeically if GPU needs to transmit data from/to global memories. The bottlenecks may thus include the communication time cost and the limitation on easily accessible memories of GPU. In addition, since GPU consists of slower individual cores than CPU on an individual level, if not enough GPU cores can be utilised (with small data size), parallel methods with GPU may not be optimal timewise."
      ]
    },
    {
      "cell_type": "markdown",
      "metadata": {
        "id": "UMTVvBFhxruL"
      },
      "source": [
        "# Q3c"
      ]
    },
    {
      "cell_type": "code",
      "metadata": {
        "colab": {
          "base_uri": "https://localhost:8080/",
          "height": 0
        },
        "id": "sDCluM-SykS1",
        "outputId": "c7012377-a5f6-48c5-f167-7ded2354cf70"
      },
      "source": [
        "%%writefile ndvi_l_o.py \n",
        "# Calculating time needed with larger dataset with the serial code\n",
        "import rasterio\n",
        "import numpy as np\n",
        "import time\n",
        "\n",
        "band4 = rasterio.open('/content/LC08_B4.tif') \n",
        "band5 = rasterio.open('/content/LC08_B5.tif') \n",
        "red = band4.read(1).astype('float64')\n",
        "nir = band5.read(1).astype('float64')\n",
        "\n",
        "l_dt = []\n",
        "for i in [1,2]:\n",
        "    t0 = time.time()\n",
        "    red_t = np.tile(red, i*10)\n",
        "    nir_t = np.tile(nir, i*10)        \n",
        "    ndvi = (nir_t - red_t) / (nir_t + red_t)\n",
        "    dt = time.time() - t0 \n",
        "    l_dt.append(dt)\n",
        "print(l_dt)"
      ],
      "execution_count": 36,
      "outputs": [
        {
          "output_type": "stream",
          "name": "stdout",
          "text": [
            "Overwriting ndvi_l_o.py\n"
          ]
        }
      ]
    },
    {
      "cell_type": "code",
      "metadata": {
        "colab": {
          "base_uri": "https://localhost:8080/",
          "height": 0
        },
        "id": "lH7329rPzvNZ",
        "outputId": "9cdb3045-f3b8-4721-e01e-2cc74c0de657"
      },
      "source": [
        "! python ndvi_l_o.py"
      ],
      "execution_count": 37,
      "outputs": [
        {
          "output_type": "stream",
          "name": "stdout",
          "text": [
            "[0.420764684677124, 0.7309577465057373]\n"
          ]
        }
      ]
    },
    {
      "cell_type": "code",
      "metadata": {
        "colab": {
          "base_uri": "https://localhost:8080/",
          "height": 0
        },
        "id": "FBdgBhsfdo_r",
        "outputId": "8f4fcc94-547b-49ad-a8ce-7d5afff8246d"
      },
      "source": [
        "%%writefile ndvi_l_p.py \n",
        "# Calculating time needed with larger dataset with the parallel code\n",
        "import pyopencl as cl\n",
        "import numpy as np\n",
        "import pyopencl.array as cl_array\n",
        "import time\n",
        "import rasterio\n",
        "\n",
        "ctx = cl.create_some_context()\n",
        "queue = cl.CommandQueue(ctx)\n",
        "\n",
        "band4 = rasterio.open('/content/LC08_B4.tif') \n",
        "band5 = rasterio.open('/content/LC08_B5.tif') \n",
        "red = band4.read(1).astype('float64')\n",
        "nir = band5.read(1).astype('float64')\n",
        "\n",
        "l_dt = []\n",
        "for i in [1,2]:\n",
        "    t0 = time.time()\n",
        "\n",
        "    red_t = np.tile(red, i*10)\n",
        "    nir_t = np.tile(nir, i*10)        \n",
        "    red1 = cl_array.to_device(queue,red_t)\n",
        "    nir1 = cl_array.to_device(queue,nir_t)\n",
        "\n",
        "    ndvi1 = (nir1 - red1) / (nir1 + red1)\n",
        "    ndvi_arr = ndvi1.get()\n",
        "    dt2 = time.time()-t0\n",
        "    l_dt.append(dt2)\n",
        "  \n",
        "print(l_dt)"
      ],
      "execution_count": 40,
      "outputs": [
        {
          "output_type": "stream",
          "name": "stdout",
          "text": [
            "Overwriting ndvi_l_p.py\n"
          ]
        }
      ]
    },
    {
      "cell_type": "code",
      "metadata": {
        "colab": {
          "base_uri": "https://localhost:8080/",
          "height": 0
        },
        "id": "Pc5BB5Y1z0MI",
        "outputId": "e3157e52-bec0-4578-bbdd-5a35dc5cd372"
      },
      "source": [
        "! python ndvi_l_p.py"
      ],
      "execution_count": 41,
      "outputs": [
        {
          "output_type": "stream",
          "name": "stdout",
          "text": [
            "Choose platform:\n",
            "[0] <pyopencl.Platform 'NVIDIA CUDA' at 0x55f1100645f0>\n",
            "Choice [0]:0\n",
            "Set the environment variable PYOPENCL_CTX='0' to avoid being asked again.\n",
            "[0.33603787422180176, 0.5990123748779297]\n"
          ]
        }
      ]
    },
    {
      "cell_type": "markdown",
      "metadata": {
        "id": "9Y79BqxH0_GS"
      },
      "source": [
        "When the dataset is tiled, performance of the GPU method is better than the original serial code timewise for both scenarios, and thus better than its performance in comparison with the serial code with the original data size. For 10x tile, the serial code requires about 0.42 seconds, while the parallel solution only requires about 0.34 seconds; for 20x tile, serial code requires approximately 0.73 seconds, while it only took about 0.6 seconds for the parallel solution. The parallel method outperforms the serial method, but the difference is not huge and no linearity (as defined in question 1) between the data size and the speedup was observed. This may be attributed to the proportion of code that cannot be parallelized, and the communication and data transfer cost, similar to the CPU methods before."
      ]
    }
  ]
}