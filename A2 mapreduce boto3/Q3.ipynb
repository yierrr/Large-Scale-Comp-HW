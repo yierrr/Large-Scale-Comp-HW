{
 "cells": [
  {
   "cell_type": "code",
   "execution_count": 1,
   "id": "aad38011-da4d-4a82-a2e3-0af704ee8683",
   "metadata": {},
   "outputs": [],
   "source": [
    "import boto3\n",
    "import time\n",
    "\n",
    "session = boto3.Session()\n",
    "\n",
    "kinesis = session.client('kinesis')\n",
    "ec2 = session.resource('ec2')\n",
    "ec2_client = session.client('ec2')"
   ]
  },
  {
   "cell_type": "code",
   "execution_count": 2,
   "id": "34631b59-1a60-422c-a911-a62ced8b5c67",
   "metadata": {},
   "outputs": [],
   "source": [
    "response = kinesis.create_stream(StreamName='stockstream',\n",
    "                                 ShardCount=1\n",
    "                                )\n",
    "\n",
    "waiter = kinesis.get_waiter('stream_exists')\n",
    "waiter.wait(StreamName='stockstream')"
   ]
  },
  {
   "cell_type": "code",
   "execution_count": 3,
   "id": "dc146449-835d-4ac5-941d-294d8db58992",
   "metadata": {},
   "outputs": [],
   "source": [
    "instances = ec2.create_instances(ImageId='ami-02e136e904f3da870',\n",
    "                                 MinCount=1,\n",
    "                                 MaxCount=2,\n",
    "                                 InstanceType='t2.micro',\n",
    "                                 KeyName='macs30123',\n",
    "                                 SecurityGroupIds=['sg-02aab282c8cf4a938'],\n",
    "                                 SecurityGroups=['launch-wizard-1'],\n",
    "                                 IamInstanceProfile=\n",
    "                                     {'Name': 'EMR_EC2_DefaultRole'},\n",
    "                                )\n",
    "\n",
    "waiter = ec2_client.get_waiter('instance_running')\n",
    "waiter.wait(InstanceIds=[instance.id for instance in instances])"
   ]
  },
  {
   "cell_type": "code",
   "execution_count": 4,
   "id": "cb5e6f2d-ceba-4052-9660-a6b5ff1d0ecc",
   "metadata": {},
   "outputs": [
    {
     "name": "stdout",
     "output_type": "stream",
     "text": [
      "Overwriting producer.py\n"
     ]
    }
   ],
   "source": [
    "%%file producer.py\n",
    "import boto3\n",
    "import json\n",
    "import random\n",
    "import datetime\n",
    "\n",
    "kinesis = boto3.client('kinesis', region_name='us-east-1')\n",
    "\n",
    "def getReferrer():\n",
    "    data = {}\n",
    "    now = datetime.datetime.now()\n",
    "    str_now = now.isoformat()\n",
    "    data['EVENT_TIME'] = str_now\n",
    "    data['TICKER'] = 'AAPL'\n",
    "    price = random.random() * 100 \n",
    "    data['PRICE'] = round(price, 2)\n",
    "    return data\n",
    "\n",
    "while True:\n",
    "    data = getReferrer()\n",
    "    kinesis.put_record(StreamName=\"stockstream\",\n",
    "                       Data=json.dumps(data),\n",
    "                       PartitionKey=\"partitionkey\")"
   ]
  },
  {
   "cell_type": "code",
   "execution_count": 13,
   "id": "708d0db2-162c-40ae-96e7-07e13495ea46",
   "metadata": {},
   "outputs": [
    {
     "name": "stdout",
     "output_type": "stream",
     "text": [
      "Overwriting consumer.py\n"
     ]
    }
   ],
   "source": [
    "%%file consumer.py\n",
    "import boto3\n",
    "import time\n",
    "import json\n",
    "from datetime import datetime\n",
    "\n",
    "ec2_client = boto3.client('ec2')\n",
    "l_ins=[]\n",
    "response = ec2_client.describe_instances()\n",
    "for reservation in response[\"Reservations\"]:\n",
    "    for instance in reservation[\"Instances\"]:\n",
    "        if instance['State']['Name']=='running':\n",
    "            l_ins.append(instance[\"InstanceId\"])\n",
    "\n",
    "\n",
    "sns = boto3.client(\"sns\", region_name=\"us-east-1\")\n",
    "\n",
    "response = sns.create_topic(Name=\"stockemail\")\n",
    "topic_arn = response[\"TopicArn\"]\n",
    "\n",
    "response = sns.subscribe(TopicArn=topic_arn, Protocol=\"email\", Endpoint=\"email\")\n",
    "\n",
    "\n",
    "kinesis = boto3.client('kinesis', region_name='us-east-1')\n",
    "\n",
    "shard_it = kinesis.get_shard_iterator(StreamName=\"stockstream\",\n",
    "                                     ShardId='shardId-000000000000',\n",
    "                                     ShardIteratorType='LATEST'\n",
    "                                     )[\"ShardIterator\"]\n",
    "\n",
    "no_stop = True\n",
    "while no_stop:\n",
    "    out = kinesis.get_records(ShardIterator=shard_it,\n",
    "                              Limit=1)\n",
    "    for o in out['Records']:\n",
    "        jdat = json.loads(o['Data'])\n",
    "        if jdat['PRICE'] >= 3:\n",
    "            shard_it = out['NextShardIterator']\n",
    "            time.sleep(0.2)\n",
    "        else:\n",
    "            now = datetime.now()\n",
    "            current_time = now.strftime(\"%H:%M:%S\")\n",
    "            sns.publish(TopicArn=topic_arn, \n",
    "                        Message=\"Stock price below $3, now is $\"+str(jdat['PRICE'])+\"Current Time = \"+ current_time, \n",
    "                        Subject=\"Price Alert: Stock price below $3\")\n",
    "            \n",
    "            ec2_client.terminate_instances(InstanceIds=l_ins)\n",
    "\n",
    "            waiter = ec2_client.get_waiter('instance_terminated')\n",
    "            waiter.wait(InstanceIds=l_ins)\n",
    "            print(\"EC2 Instances Successfully Terminated\")\n",
    "            \n",
    "            try:\n",
    "                response = kinesis.delete_stream(StreamName='stockstream')\n",
    "            except kinesis.exceptions.ResourceNotFoundException:\n",
    "                pass\n",
    "\n",
    "            waiter = kinesis.get_waiter('stream_not_exists')\n",
    "            waiter.wait(StreamName='stockstream')\n",
    "            print(\"Kinesis Stream Successfully Deleted\")\n",
    "            \n",
    "            response = sns.list_subscriptions_by_topic(TopicArn=topic_arn)\n",
    "            subscriptions = response[\"Subscriptions\"]\n",
    "            subscription_arn = subscriptions[0]['SubscriptionArn']\n",
    "            \n",
    "            sns.unsubscribe(SubscriptionArn=subscription_arn)\n",
    "            sns.delete_topic(TopicArn=topic_arn)\n",
    "            no_stop = False\n",
    "            break\n",
    "\n",
    "    \n"
   ]
  },
  {
   "cell_type": "code",
   "execution_count": 6,
   "id": "136e478f-faaf-4647-be25-e8932be8092d",
   "metadata": {},
   "outputs": [],
   "source": [
    "instance_dns = [instance.public_dns_name \n",
    "                 for instance in ec2.instances.all() \n",
    "                 if instance.state['Name'] == 'running'\n",
    "               ]\n",
    "\n",
    "code = ['producer.py', 'consumer.py']"
   ]
  },
  {
   "cell_type": "code",
   "execution_count": null,
   "id": "cbce35f3-d2e1-4b22-99b5-63519a6fdaaf",
   "metadata": {},
   "outputs": [],
   "source": [
    "#!pip install paramiko scp --quiet"
   ]
  },
  {
   "cell_type": "code",
   "execution_count": 7,
   "id": "efe6d86a-fe7b-4b2f-b082-b11a47c21506",
   "metadata": {},
   "outputs": [
    {
     "name": "stdout",
     "output_type": "stream",
     "text": [
      "Producer Instance is Running producer.py\n",
      ".........................................\n",
      "Connect to Consumer Instance by running: ssh -i \"key.pem\" ec2-user@ec2-54-172-254-220.compute-1.amazonaws.com\n"
     ]
    }
   ],
   "source": [
    "import paramiko\n",
    "from scp import SCPClient\n",
    "ssh_producer, ssh_consumer = paramiko.SSHClient(), paramiko.SSHClient()\n",
    "\n",
    "time.sleep(60)\n",
    "\n",
    "instance = 0\n",
    "stdin, stdout, stderr = [[None, None] for i in range(3)]\n",
    "for ssh in [ssh_producer, ssh_consumer]:\n",
    "    ssh.set_missing_host_key_policy(paramiko.AutoAddPolicy())\n",
    "    ssh.connect(instance_dns[instance],\n",
    "                username = 'ec2-user',\n",
    "                key_filename="key.pem",
    "    with SCPClient(ssh.get_transport()) as scp:\n",
    "        scp.put(code[instance])\n",
    "    \n",
    "    if instance == 0:\n",
    "        stdin[instance], stdout[instance], stderr[instance] = \\\n",
    "            ssh.exec_command(\"sudo pip3 install boto3 testdata==4.0.1\")\n",
    "    else:\n",
    "        stdin[instance], stdout[instance], stderr[instance] = \\\n",
    "            ssh.exec_command(\"sudo pip3 install boto3\")\n",
    "\n",
    "    instance += 1\n",
    "\n",
    "producer_exit_status = stdout[0].channel.recv_exit_status() \n",
    "if producer_exit_status == 0:\n",
    "    ssh_producer.exec_command(\"python3 %s\" % code[0])\n",
    "    print(\"Producer Instance is Running producer.py\\n.........................................\")\n",
    "else:\n",
    "    print(\"Error\", producer_exit_status)\n",
    "\n",
    "ssh_consumer.close; ssh_producer.close()\n",
    "\n",
    "print(\"Connect to Consumer Instance by running: ssh -i \\\"key.pem\\\" ec2-user@%s\" % instance_dns[1])"
   ]
  },
  {
   "cell_type": "code",
   "execution_count": 14,
   "id": "812b0cb2-e5f1-47bb-bdac-164988fbc4eb",
   "metadata": {},
   "outputs": [
    {
     "name": "stdout",
     "output_type": "stream",
     "text": [
      "EC2 Instances Successfully Terminated\n",
      "Kinesis Stream Successfully Deleted\n"
     ]
    }
   ],
   "source": [
    "! python3 consumer.py"
   ]
  }
 ],
 "metadata": {
  "kernelspec": {
   "display_name": "Python 3",
   "language": "python",
   "name": "python3"
  },
  "language_info": {
   "codemirror_mode": {
    "name": "ipython",
    "version": 3
   },
   "file_extension": ".py",
   "mimetype": "text/x-python",
   "name": "python",
   "nbconvert_exporter": "python",
   "pygments_lexer": "ipython3",
   "version": "3.8.8"
  }
 },
 "nbformat": 4,
 "nbformat_minor": 5
}
