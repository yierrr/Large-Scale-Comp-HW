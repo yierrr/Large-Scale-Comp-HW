{
 "cells": [
  {
   "cell_type": "code",
   "execution_count": 1,
   "id": "150acbba-d6eb-4823-b278-4b1527f80336",
   "metadata": {},
   "outputs": [
    {
     "name": "stdout",
     "output_type": "stream",
     "text": [
      "No configs found; falling back on auto-configuration\n",
      "No configs specified for inline runner\n",
      "Creating temp directory /var/folders/4h/wc3r6yz97bl_ng7db3hlhdxw0000gn/T/Q2.sagelim.20211110.190750.647538\n",
      "Running step 1 of 2...\n",
      "Running step 2 of 2...\n",
      "job output is in /var/folders/4h/wc3r6yz97bl_ng7db3hlhdxw0000gn/T/Q2.sagelim.20211110.190750.647538/output\n",
      "Streaming final output from /var/folders/4h/wc3r6yz97bl_ng7db3hlhdxw0000gn/T/Q2.sagelim.20211110.190750.647538/output...\n",
      "956\t\"new\"\n",
      "953\t\"one\"\n",
      "823\t\"life\"\n",
      "648\t\"world\"\n",
      "538\t\"book\"\n",
      "524\t\"love\"\n",
      "460\t\"time\"\n",
      "417\t\"story\"\n",
      "413\t\"first\"\n",
      "393\t\"years\"\n",
      "Removing temp directory /var/folders/4h/wc3r6yz97bl_ng7db3hlhdxw0000gn/T/Q2.sagelim.20211110.190750.647538...\n"
     ]
    }
   ],
   "source": [
    "!python3 Q2.py descriptions.txt"
   ]
  }
 ],
 "metadata": {
  "kernelspec": {
   "display_name": "Python 3",
   "language": "python",
   "name": "python3"
  },
  "language_info": {
   "codemirror_mode": {
    "name": "ipython",
    "version": 3
   },
   "file_extension": ".py",
   "mimetype": "text/x-python",
   "name": "python",
   "nbconvert_exporter": "python",
   "pygments_lexer": "ipython3",
   "version": "3.8.8"
  }
 },
 "nbformat": 4,
 "nbformat_minor": 5
}
