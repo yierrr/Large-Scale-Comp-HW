{
 "cells": [
  {
   "cell_type": "markdown",
   "id": "3a51609c-06a5-4043-b559-c388f45a069e",
   "metadata": {},
   "source": [
    "### Q1a"
   ]
  },
  {
   "cell_type": "code",
   "execution_count": 1,
   "id": "5bb0452f-cb10-4f7a-a967-1894bcf8e876",
   "metadata": {},
   "outputs": [],
   "source": [
    "#Creating DynamoDB table outside Lambda\n",
    "\n",
    "import boto3\n",
    "client = boto3.client('dynamodb')\n",
    "\n",
    "dynamodb = boto3.resource('dynamodb')\n",
    "table = dynamodb.create_table(\n",
    "    TableName='psychrec',\n",
    "    KeySchema=[\n",
    "        {\n",
    "            'AttributeName': 'username',\n",
    "            'KeyType': 'HASH'\n",
    "        }\n",
    "    ],\n",
    "    AttributeDefinitions=[\n",
    "        {\n",
    "            'AttributeName': 'username',\n",
    "            'AttributeType': 'S'#string\n",
    "        }\n",
    "    ],\n",
    "    ProvisionedThroughput={ #baseline concurrent capacity read and write\n",
    "        'ReadCapacityUnits': 1,\n",
    "        'WriteCapacityUnits': 1\n",
    "    }    \n",
    ")\n"
   ]
  },
  {
   "cell_type": "code",
   "execution_count": null,
   "id": "852c9dae-601e-4134-a51c-4a7f3ea2685b",
   "metadata": {},
   "outputs": [],
   "source": [
    "# Code in Lambda\n",
    "\n",
    "import time\n",
    "import boto3\n",
    "import json\n",
    "\n",
    "\n",
    "dynamodb = boto3.resource('dynamodb')\n",
    "client = boto3.client('dynamodb')#table created in jupyter?\n",
    "table= dynamodb.Table('psychrec') \n",
    "\n",
    "s3 = boto3.resource('s3') \n",
    "s3.create_bucket(Bucket='psychlab-14070714')\n",
    "\n",
    "time.sleep(10)\n",
    "\n",
    "def lambda_handler(event, context):\n",
    "    #saving to s3\n",
    "    time = event[\"timestamp\"]\n",
    "    uid = event[\"user_id\"]\n",
    "    moo = event['mood']# string? int?\n",
    "    key = time + '|' + uid\n",
    "    eve = json.dumps(event)\n",
    "    s3.Bucket('psychlab-14070714').put_object(Key=key,Body = eve) \n",
    "    \n",
    "    #analyse sentiment\n",
    "    txt = event[\"text\"]\n",
    "    comprehend = boto3.client('comprehend')\n",
    "    response = comprehend.detect_sentiment(Text=txt,\n",
    "                                       LanguageCode='en')\n",
    "    sen = response['Sentiment']\n",
    "\n",
    "    #saving to DB\n",
    "    response = table.get_item(\n",
    "        Key={\n",
    "            'username': uid\n",
    "        }\n",
    "        )\n",
    "    if 'Item' not in response.keys():  \n",
    "        table.put_item(\n",
    "           Item={\n",
    "                'username': uid,\n",
    "                'sentiment': sen,\n",
    "                'mood': moo,\n",
    "                'num_survey':1\n",
    "            }\n",
    "        )\n",
    "    else:\n",
    "        num = int(response['Item']['num_survey']) + 1\n",
    "        table.update_item(\n",
    "                Key={\n",
    "                    'username': uid\n",
    "                },\n",
    "                UpdateExpression='SET num_survey = :val1, sentiment = :val2, mood = :val3',\n",
    "                ExpressionAttributeValues={\n",
    "                    ':val1': num,\n",
    "                    ':val2': sen,\n",
    "                    ':val3': moo,\n",
    "                }\n",
    "            )\n",
    "        \n",
    "    response = table.get_item(\n",
    "        Key={\n",
    "            'username': uid\n",
    "        }\n",
    "        )\n",
    "    senti = response['Item']['sentiment']\n",
    "    return senti\n",
    "\n"
   ]
  },
  {
   "cell_type": "code",
   "execution_count": 3,
   "id": "013882b2-d300-40c7-b6e6-0d8f642f2ea0",
   "metadata": {},
   "outputs": [
    {
     "data": {
      "text/plain": [
       "{'TableDescription': {'TableName': 'psychrec',\n",
       "  'TableStatus': 'DELETING',\n",
       "  'ProvisionedThroughput': {'NumberOfDecreasesToday': 0,\n",
       "   'ReadCapacityUnits': 1,\n",
       "   'WriteCapacityUnits': 1},\n",
       "  'TableSizeBytes': 0,\n",
       "  'ItemCount': 0,\n",
       "  'TableArn': 'arn:aws:dynamodb:us-east-1:087317734173:table/psychrec',\n",
       "  'TableId': '90effbe1-2e51-41fe-a87c-013bd222164d'},\n",
       " 'ResponseMetadata': {'RequestId': '1T3G1VT86ABSBN8VECB4GMNADJVV4KQNSO5AEMVJF66Q9ASUAAJG',\n",
       "  'HTTPStatusCode': 200,\n",
       "  'HTTPHeaders': {'server': 'Server',\n",
       "   'date': 'Wed, 10 Nov 2021 19:34:07 GMT',\n",
       "   'content-type': 'application/x-amz-json-1.0',\n",
       "   'content-length': '318',\n",
       "   'connection': 'keep-alive',\n",
       "   'x-amzn-requestid': '1T3G1VT86ABSBN8VECB4GMNADJVV4KQNSO5AEMVJF66Q9ASUAAJG',\n",
       "   'x-amz-crc32': '2273958093'},\n",
       "  'RetryAttempts': 0}}"
      ]
     },
     "execution_count": 3,
     "metadata": {},
     "output_type": "execute_result"
    }
   ],
   "source": [
    "# Deleting S3 items and DynamoDB table outside Lambda\n",
    "import boto3\n",
    "\n",
    "client = boto3.client('dynamodb')\n",
    "table= dynamodb.Table('psychrec') \n",
    "s3 = boto3.resource('s3') \n",
    "\n",
    "def cleanup(bucket_name):\n",
    "    bucket = s3.Bucket(bucket_name)\n",
    "    for item in bucket.objects.all():\n",
    "        item.delete()\n",
    "        \n",
    "cleanup('psychlab-14070714')\n",
    "table.delete()"
   ]
  },
  {
   "cell_type": "markdown",
   "id": "7f7c0c4b-102e-4ea1-96bd-95284968bf59",
   "metadata": {},
   "source": [
    "### Q1b"
   ]
  },
  {
   "cell_type": "markdown",
   "id": "8d85e982-864d-42fe-9f7f-0d99a4c619d7",
   "metadata": {},
   "source": [
    "This solution mainly uses services DynamoDB and S3 buckets. Regarding DynamoDB, according to its documentation (https://docs.aws.amazon.com/amazondynamodb/latest/developerguide/Introduction.html), DynamoDB employs sufficient servers to handle throughputs and storage while maintaining consistency. Data is stored and replicated on availability zones in different places, thus further protecting data from damages of storage facilities. Especially with point-to-time recovery, any table can be restored within 35 days. Moreover, DynamoDB also ensures seamless scalability without downtime or degragation, suitable for study with a large amount of participants. In addition, as privacy is vital to psychological research, the encryption option within DynamoDB can protect the participants from privacy leakage.DynamoDB is also suitable for long-term storage of data, which can be used for future replication or further research purposes. Regarding S3, according to its documentation (https://docs.aws.amazon.com/AmazonS3/latest/userguide/Welcome.html), S3 enables users to input and retrieve data of different time, without dealing with damaged or partial data, further ruling out data loss concerns. Similar to DynamoDB, S3 also replicates data across multiple servers to prevent data damage. Additionally, the eventual consistency of S3 buckets allows for time between the implementation and the realization of data changes, allowing users to make amendments when accidental changes are made. For example, if a bucket is accidentally deleted, it may still remain in the list for a while. "
   ]
  }
 ],
 "metadata": {
  "kernelspec": {
   "display_name": "Python 3",
   "language": "python",
   "name": "python3"
  },
  "language_info": {
   "codemirror_mode": {
    "name": "ipython",
    "version": 3
   },
   "file_extension": ".py",
   "mimetype": "text/x-python",
   "name": "python",
   "nbconvert_exporter": "python",
   "pygments_lexer": "ipython3",
   "version": "3.8.8"
  }
 },
 "nbformat": 4,
 "nbformat_minor": 5
}
